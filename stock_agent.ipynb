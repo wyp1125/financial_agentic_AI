{
 "cells": [
  {
   "cell_type": "code",
   "execution_count": 1,
   "id": "980d4907-02b6-4b01-97b9-a76dbec1e80d",
   "metadata": {},
   "outputs": [
    {
     "name": "stdout",
     "output_type": "stream",
     "text": [
      "Dialect: sqlite\n",
      "Available tables: ['stock_data']\n",
      "Sample output: [('AMZN', '2025-08-19 00:00:00', 228.01, 29891010, 230.09, 230.5283, 227.12), ('AMZN', '2025-08-18 00:00:00', 231.49, 25248890, 230.225, 231.91, 228.33), ('AMZN', '2025-08-15 00:00:00', 231.03, 39649240, 232.58, 234.08, 229.807), ('AMZN', '2025-08-14 00:00:00', 230.98, 61545820, 227.4, 233.11, 227.02), ('AMZN', '2025-08-13 00:00:00', 224.56, 36508340, 222.0, 224.9185, 222.0)]\n"
     ]
    }
   ],
   "source": [
    "from langchain_community.utilities import SQLDatabase\n",
    "db = SQLDatabase.from_uri(\"sqlite:///db/stock_data.db\")\n",
    "print(f\"Dialect: {db.dialect}\")\n",
    "print(f\"Available tables: {db.get_usable_table_names()}\")\n",
    "print(f'Sample output: {db.run(\"SELECT * FROM stock_data LIMIT 5;\")}')"
   ]
  },
  {
   "cell_type": "code",
   "execution_count": 19,
   "id": "4e8d3613-8c4c-4968-a374-a9fbe4efd294",
   "metadata": {},
   "outputs": [],
   "source": [
    "from langchain.chat_models import init_chat_model\n",
    "llm = init_chat_model(\"openai:gpt-5-mini\")"
   ]
  },
  {
   "cell_type": "code",
   "execution_count": null,
   "id": "2d459214-db5b-4397-adfa-98ed8da3a200",
   "metadata": {},
   "outputs": [],
   "source": [
    "from langchain_community.agent_toolkits import SQLDatabaseToolkit\n",
    "toolkit = SQLDatabaseToolkit(db=db, llm=llm)\n",
    "tools = toolkit.get_tools()\n",
    "for tool in tools:\n",
    "    print(f\"{tool.name}: {tool.description}\\n\")"
   ]
  },
  {
   "cell_type": "code",
   "execution_count": 21,
   "id": "b8c2e382-2c3a-4ac1-ae18-98c76152e98f",
   "metadata": {},
   "outputs": [],
   "source": [
    "from langgraph.prebuilt import create_react_agent\n",
    "\n",
    "system_prompt = \"\"\"\n",
    "You are an agent designed to interact with a SQL database.\n",
    "Given an input question, create a syntactically correct {dialect} query to run,\n",
    "then look at the results of the query and return the answer. Unless the user\n",
    "specifies a specific number of examples they wish to obtain, always limit your\n",
    "query to at most {top_k} results.\n",
    "\n",
    "You can order the results by a relevant column to return the most interesting\n",
    "examples in the database. Never query for all the columns from a specific table,\n",
    "only ask for the relevant columns given the question.\n",
    "\n",
    "You MUST double check your query before executing it. If you get an error while\n",
    "executing a query, rewrite the query and try again.\n",
    "\n",
    "DO NOT make any DML statements (INSERT, UPDATE, DELETE, DROP etc.) to the\n",
    "database.\n",
    "\n",
    "To start you should ALWAYS look at the tables in the database to see what you\n",
    "can query. Do NOT skip this step.\n",
    "\n",
    "Then you should query the schema of the most relevant tables.\n",
    "\"\"\".format(\n",
    "    dialect=db.dialect,\n",
    "    top_k=5,\n",
    ")\n",
    "\n",
    "agent = create_react_agent(\n",
    "    llm,\n",
    "    tools,\n",
    "    prompt=system_prompt,\n",
    ")"
   ]
  },
  {
   "cell_type": "code",
   "execution_count": null,
   "id": "ebf5cfb7-d63d-40b5-986d-1d14b612a8d3",
   "metadata": {},
   "outputs": [],
   "source": [
    "question = \"Which stock has the highest close price?\"\n",
    "\n",
    "for step in agent.stream(\n",
    "    {\"messages\": [{\"role\": \"user\", \"content\": question}]},\n",
    "    stream_mode=\"values\",\n",
    "):\n",
    "    step[\"messages\"][-1].pretty_print()"
   ]
  },
  {
   "cell_type": "code",
   "execution_count": null,
   "id": "835c0c8c-902a-4435-9c50-c487cda6960f",
   "metadata": {},
   "outputs": [],
   "source": [
    "import gradio as gr\n",
    "def chat(message, history):\n",
    "    messages = history + [{\"role\": \"user\", \"content\": message}]\n",
    "    stream=agent.stream({\"messages\":messages},stream_mode=\"values\")\n",
    "    response = \"\"\n",
    "    for chunk in stream:\n",
    "        response +=chunk[\"messages\"][-1] or ''\n",
    "        yield response\n",
    "\n",
    "gr.ChatInterface(chat, type=\"messages\").launch()"
   ]
  },
  {
   "cell_type": "code",
   "execution_count": 22,
   "id": "a889ad10-8ffa-448c-a339-51a3b739686e",
   "metadata": {},
   "outputs": [
    {
     "name": "stderr",
     "output_type": "stream",
     "text": [
      "C:\\Users\\wyp_1\\Projects\\Upwork\\financial_agentic_AI\\.venv\\Lib\\site-packages\\gradio\\chat_interface.py:345: UserWarning: The 'tuples' format for chatbot messages is deprecated and will be removed in a future version of Gradio. Please set type='messages' instead, which uses openai-style 'role' and 'content' keys.\n",
      "  self.chatbot = Chatbot(\n"
     ]
    },
    {
     "name": "stdout",
     "output_type": "stream",
     "text": [
      "* Running on local URL:  http://127.0.0.1:7879\n",
      "* To create a public link, set `share=True` in `launch()`.\n"
     ]
    },
    {
     "data": {
      "text/html": [
       "<div><iframe src=\"http://127.0.0.1:7879/\" width=\"100%\" height=\"500\" allow=\"autoplay; camera; microphone; clipboard-read; clipboard-write;\" frameborder=\"0\" allowfullscreen></iframe></div>"
      ],
      "text/plain": [
       "<IPython.core.display.HTML object>"
      ]
     },
     "metadata": {},
     "output_type": "display_data"
    }
   ],
   "source": [
    "async def chat_with_agent(message, history):\n",
    "    # LangGraph agents expect messages in a specific format\n",
    "    messages = [{\"role\": \"user\", \"content\": message}]\n",
    "    \n",
    "    # Invoke the agent\n",
    "    response = await agent.ainvoke({\"messages\": messages})\n",
    "    \n",
    "    # Extract the agent's reply\n",
    "    agent_reply = response[\"messages\"][-1].content\n",
    "    return agent_reply\n",
    "\n",
    "# 5. Create the Gradio interface\n",
    "iface = gr.ChatInterface(\n",
    "    fn=chat_with_agent,\n",
    "    title=\"LangGraph ReAct Agent Chatbot\",\n",
    "    description=\"Ask me about stock questions!\",\n",
    ")\n",
    "\n",
    "# 6. Launch the Gradio app\n",
    "if __name__ == \"__main__\":\n",
    "    iface.launch()"
   ]
  },
  {
   "cell_type": "code",
   "execution_count": null,
   "id": "4bf0c934-7973-4a6c-8e6f-38a83bc63a31",
   "metadata": {},
   "outputs": [],
   "source": []
  }
 ],
 "metadata": {
  "kernelspec": {
   "display_name": "Python 3 (ipykernel)",
   "language": "python",
   "name": "python3"
  },
  "language_info": {
   "codemirror_mode": {
    "name": "ipython",
    "version": 3
   },
   "file_extension": ".py",
   "mimetype": "text/x-python",
   "name": "python",
   "nbconvert_exporter": "python",
   "pygments_lexer": "ipython3",
   "version": "3.13.5"
  }
 },
 "nbformat": 4,
 "nbformat_minor": 5
}
