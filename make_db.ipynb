{
 "cells": [
  {
   "cell_type": "code",
   "execution_count": 2,
   "id": "d158da6e-0456-476f-894a-83b4ead067ac",
   "metadata": {},
   "outputs": [],
   "source": [
    "import pandas as pd\n",
    "excel_file_path = 'db/stock_data.xlsx'\n",
    "df = pd.read_excel(excel_file_path)"
   ]
  },
  {
   "cell_type": "code",
   "execution_count": 3,
   "id": "c9c6f16d-1195-4b3f-8bfe-c802ce06d501",
   "metadata": {},
   "outputs": [],
   "source": [
    "import sqlite3\n",
    "db_file_path = 'db/stock_data.db'\n",
    "conn = sqlite3.connect(db_file_path)\n",
    "cursor = conn.cursor()"
   ]
  },
  {
   "cell_type": "code",
   "execution_count": 4,
   "id": "21d24d14-481f-46fd-af66-45f308ce9c47",
   "metadata": {},
   "outputs": [],
   "source": [
    "create_table_sql = f\"CREATE TABLE IF NOT EXISTS stock_data ({', '.join([f'{col} TEXT' for col in df.columns])})\"\n",
    "cursor.execute(create_table_sql)\n",
    "conn.commit()"
   ]
  },
  {
   "cell_type": "code",
   "execution_count": 5,
   "id": "caae357a-c32c-44eb-a3cd-8bd2b8da0ff1",
   "metadata": {},
   "outputs": [
    {
     "data": {
      "text/plain": [
       "5024"
      ]
     },
     "execution_count": 5,
     "metadata": {},
     "output_type": "execute_result"
    }
   ],
   "source": [
    "df.to_sql('stock_data', conn, if_exists='replace', index=False)"
   ]
  },
  {
   "cell_type": "code",
   "execution_count": 6,
   "id": "d8ec2085-646d-48c4-9ea1-13ce0bcceeaa",
   "metadata": {},
   "outputs": [
    {
     "data": {
      "text/plain": [
       "<sqlite3.Cursor at 0x1f1f7a92940>"
      ]
     },
     "execution_count": 6,
     "metadata": {},
     "output_type": "execute_result"
    }
   ],
   "source": [
    "cursor.execute(\"SELECT * FROM stock_data;\")"
   ]
  },
  {
   "cell_type": "code",
   "execution_count": 7,
   "id": "87d194b9-c406-4e76-b4de-b8c966038d20",
   "metadata": {},
   "outputs": [],
   "source": [
    "rows = cursor.fetchall()"
   ]
  },
  {
   "cell_type": "code",
   "execution_count": 8,
   "id": "3c98026f-bdc6-49f8-bc18-369974b8098b",
   "metadata": {},
   "outputs": [
    {
     "data": {
      "text/plain": [
       "('AMZN', '2025-08-19 00:00:00', 228.01, 29891010, 230.09, 230.5283, 227.12)"
      ]
     },
     "execution_count": 8,
     "metadata": {},
     "output_type": "execute_result"
    }
   ],
   "source": [
    "rows[0]"
   ]
  },
  {
   "cell_type": "code",
   "execution_count": 9,
   "id": "d3eb13a1-778a-4d7a-a91d-3de90edef4c8",
   "metadata": {},
   "outputs": [],
   "source": [
    "conn.close()"
   ]
  },
  {
   "cell_type": "code",
   "execution_count": null,
   "id": "b32772e0-9026-465a-af66-25b808c423f9",
   "metadata": {},
   "outputs": [],
   "source": []
  }
 ],
 "metadata": {
  "kernelspec": {
   "display_name": "Python 3 (ipykernel)",
   "language": "python",
   "name": "python3"
  },
  "language_info": {
   "codemirror_mode": {
    "name": "ipython",
    "version": 3
   },
   "file_extension": ".py",
   "mimetype": "text/x-python",
   "name": "python",
   "nbconvert_exporter": "python",
   "pygments_lexer": "ipython3",
   "version": "3.13.5"
  }
 },
 "nbformat": 4,
 "nbformat_minor": 5
}
