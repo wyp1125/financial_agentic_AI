{
 "cells": [
  {
   "cell_type": "code",
   "execution_count": 17,
   "id": "835859ff-d8a6-435a-b557-b73799f527c9",
   "metadata": {},
   "outputs": [],
   "source": [
    "import gradio as gr\n",
    "from langgraph.prebuilt import create_react_agent"
   ]
  },
  {
   "cell_type": "code",
   "execution_count": 18,
   "id": "7d62a752-3df1-4975-b74d-30a443d47201",
   "metadata": {},
   "outputs": [],
   "source": [
    "def mortgage_payment_calculator(loan_amount: float, annual_interest_rate: float, number_of_payments:int):\n",
    "    \"\"\"Calculate the monthly payment of a mortgage\"\"\"\n",
    "    monthly_interest_rate=annual_interest_rate/12\n",
    "    monthly_payment=loan_amount*monthly_interest_rate*(1 + monthly_interest_rate)**number_of_payments/\\\n",
    "                    ((1.0 + monthly_interest_rate)**number_of_payments - 1.0)\n",
    "    return monthly_payment"
   ]
  },
  {
   "cell_type": "code",
   "execution_count": 11,
   "id": "08a312fa-9b9f-4f73-9774-30c6d4b00af4",
   "metadata": {},
   "outputs": [
    {
     "data": {
      "text/plain": [
       "966.6400764714135"
      ]
     },
     "execution_count": 11,
     "metadata": {},
     "output_type": "execute_result"
    }
   ],
   "source": [
    "mortgage_payment_calculator(50000.0,0.06,60)"
   ]
  },
  {
   "cell_type": "code",
   "execution_count": 29,
   "id": "7e1545bb-e185-4b15-8b05-b3e37fcf6c4b",
   "metadata": {},
   "outputs": [],
   "source": [
    "mortgage_agent = create_react_agent(\n",
    "    model=\"openai:gpt-4o-mini\",\n",
    "    tools=[mortgage_payment_calculator],\n",
    "    prompt=(\n",
    "        \"You are a mortgage agent.\\n\\n\"\n",
    "        \"INSTRUCTIONS:\\n\"\n",
    "        \"- Assist ONLY with mortgage payment calculation\\n\"\n",
    "        \"- Ask for loan amount, annual interest rate, or number of payments, if any of them not provided\\n\"\n",
    "        \"- Combine already provided function parameters in history to complete the calculation\\n\" \n",
    "        \"- Respond ONLY with the results of your work, do NOT include ANY other text.\"\n",
    "    ),\n",
    "    name=\"mortgage_agent\",\n",
    ")"
   ]
  },
  {
   "cell_type": "code",
   "execution_count": 40,
   "id": "8a7f870f-560f-4c17-ae9c-ab25da5b863b",
   "metadata": {},
   "outputs": [
    {
     "name": "stdout",
     "output_type": "stream",
     "text": [
      "* Running on local URL:  http://127.0.0.1:7878\n",
      "* To create a public link, set `share=True` in `launch()`.\n"
     ]
    },
    {
     "data": {
      "text/html": [
       "<div><iframe src=\"http://127.0.0.1:7878/\" width=\"100%\" height=\"500\" allow=\"autoplay; camera; microphone; clipboard-read; clipboard-write;\" frameborder=\"0\" allowfullscreen></iframe></div>"
      ],
      "text/plain": [
       "<IPython.core.display.HTML object>"
      ]
     },
     "metadata": {},
     "output_type": "display_data"
    }
   ],
   "source": [
    "from langchain.schema import AIMessage, HumanMessage  \n",
    "async def chat_with_agent(message, history):\n",
    "    # LangGraph agents expect messages in a specific format\n",
    "    #print(history)\n",
    "    messages = history + [{\"role\": \"user\", \"content\": message}]    \n",
    "    # Invoke the agent\n",
    "    response = await mortgage_agent.ainvoke({\"messages\": messages})\n",
    "    \n",
    "    # Extract the agent's reply\n",
    "    agent_reply = response[\"messages\"][-1].content\n",
    "    return agent_reply\n",
    "\n",
    "# 5. Create the Gradio interface\n",
    "iface = gr.ChatInterface(\n",
    "    fn=chat_with_agent,\n",
    "    type=\"messages\"\n",
    ")\n",
    "\n",
    "# 6. Launch the Gradio app\n",
    "if __name__ == \"__main__\":\n",
    "    iface.launch()"
   ]
  },
  {
   "cell_type": "code",
   "execution_count": null,
   "id": "c4608da8-9005-415a-8f89-6666b1cffb56",
   "metadata": {},
   "outputs": [],
   "source": []
  },
  {
   "cell_type": "code",
   "execution_count": null,
   "id": "e92d0367-424b-4749-b418-56f2c6a4e97c",
   "metadata": {},
   "outputs": [],
   "source": []
  }
 ],
 "metadata": {
  "kernelspec": {
   "display_name": "Python 3 (ipykernel)",
   "language": "python",
   "name": "python3"
  },
  "language_info": {
   "codemirror_mode": {
    "name": "ipython",
    "version": 3
   },
   "file_extension": ".py",
   "mimetype": "text/x-python",
   "name": "python",
   "nbconvert_exporter": "python",
   "pygments_lexer": "ipython3",
   "version": "3.13.5"
  }
 },
 "nbformat": 4,
 "nbformat_minor": 5
}
