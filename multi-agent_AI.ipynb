{
 "cells": [
  {
   "cell_type": "code",
   "execution_count": 10,
   "id": "98baf69c-7e1a-4693-97f4-e89038e031dc",
   "metadata": {},
   "outputs": [],
   "source": [
    "from langchain_community.utilities import SQLDatabase\n",
    "db = SQLDatabase.from_uri(\"sqlite:///db/stock_data.db\")\n",
    "from langchain.chat_models import init_chat_model\n",
    "llm = init_chat_model(\"openai:gpt-5-mini\")\n",
    "from langchain_community.agent_toolkits import SQLDatabaseToolkit\n",
    "toolkit = SQLDatabaseToolkit(db=db, llm=llm)\n",
    "tools = toolkit.get_tools()\n",
    "from langgraph.prebuilt import create_react_agent\n",
    "system_prompt = \"\"\"\n",
    "You are an agent designed to interact with a SQL database.\n",
    "Given an input question, create a syntactically correct {dialect} query to run,\n",
    "then look at the results of the query and return the answer. Unless the user\n",
    "specifies a specific number of examples they wish to obtain, always limit your\n",
    "query to at most {top_k} results.\n",
    "\n",
    "You can order the results by a relevant column to return the most interesting\n",
    "examples in the database. Never query for all the columns from a specific table,\n",
    "only ask for the relevant columns given the question.\n",
    "\n",
    "You MUST double check your query before executing it. If you get an error while\n",
    "executing a query, rewrite the query and try again.\n",
    "\n",
    "DO NOT make any DML statements (INSERT, UPDATE, DELETE, DROP etc.) to the\n",
    "database.\n",
    "\n",
    "To start you should ALWAYS look at the tables in the database to see what you\n",
    "can query. Do NOT skip this step.\n",
    "\n",
    "Then you should query the schema of the most relevant tables.\n",
    "\"\"\".format(\n",
    "    dialect=db.dialect,\n",
    "    top_k=5,\n",
    ")\n",
    "stock_agent = create_react_agent(\n",
    "    llm,\n",
    "    tools,\n",
    "    prompt=system_prompt,\n",
    "    name=\"stock_agent\",\n",
    ")"
   ]
  },
  {
   "cell_type": "code",
   "execution_count": 11,
   "id": "95d0776b-56cd-4f03-95fd-6a71675671d8",
   "metadata": {},
   "outputs": [],
   "source": [
    "def mortgage_payment_calculator(loan_amount: float, annual_interest_rate: float, number_of_payments:int):\n",
    "    \"\"\"Calculate the monthly payment of a mortgage\"\"\"\n",
    "    monthly_interest_rate=annual_interest_rate/12\n",
    "    monthly_payment=loan_amount*monthly_interest_rate*(1 + monthly_interest_rate)**number_of_payments/\\\n",
    "                    ((1.0 + monthly_interest_rate)**number_of_payments - 1.0)\n",
    "    return monthly_payment\n",
    "    \n",
    "mortgage_agent = create_react_agent(\n",
    "    model=\"openai:gpt-4o-mini\",\n",
    "    tools=[mortgage_payment_calculator],\n",
    "    prompt=(\n",
    "        \"You are a mortgage agent.\\n\\n\"\n",
    "        \"INSTRUCTIONS:\\n\"\n",
    "        \"- Assist ONLY with mortgage payment calculation\\n\"\n",
    "        \"- Ask for loan amount, annual interest rate, or number of payments, if any of them not provided\\n\"\n",
    "        \"- Combine already provided function parameters in history to complete the calculation\\n\" \n",
    "        \"- Respond ONLY with the results of your work, do NOT include ANY other text.\"\n",
    "    ),\n",
    "    name=\"mortgage_agent\",\n",
    ")"
   ]
  },
  {
   "cell_type": "code",
   "execution_count": 12,
   "id": "92f41105-4d12-49d5-8195-fe83a75c2e69",
   "metadata": {},
   "outputs": [],
   "source": [
    "from langgraph_supervisor import create_supervisor\n",
    "from langchain.chat_models import init_chat_model\n",
    "\n",
    "supervisor = create_supervisor(\n",
    "    model=init_chat_model(\"openai:gpt-5-mini\"),\n",
    "    agents=[stock_agent, mortgage_agent],\n",
    "    prompt=(\n",
    "        \"You are a supervisor managing two agents:\\n\"\n",
    "        \"- a stock agent. Assign stock price query tasks to this agent\\n\"\n",
    "        \"- a mortgage agent. Assign mortgage monthly payment tasks to this agent\\n\"\n",
    "        \"Assign work to one agent at a time, do not call agents in parallel.\\n\"\n",
    "        \"Do not do any work yourself.\"\n",
    "    ),\n",
    "    add_handoff_back_messages=True,\n",
    "    output_mode=\"full_history\",\n",
    "    name=\"supervisor_agent\",\n",
    ").compile()"
   ]
  },
  {
   "cell_type": "code",
   "execution_count": 13,
   "id": "894e20fe-9a61-4bd9-b503-9ed121e3ac3d",
   "metadata": {},
   "outputs": [
    {
     "data": {
      "image/png": "[encoded data removed]",
      "text/plain": [
       "<IPython.core.display.Image object>"
      ]
     },
     "metadata": {},
     "output_type": "display_data"
    }
   ],
   "source": [
    "from IPython.display import display, Image\n",
    "display(Image(supervisor.get_graph().draw_mermaid_png()))"
   ]
  },
  {
   "cell_type": "code",
   "execution_count": 16,
   "id": "3e0c5cc1-20f9-42a4-84ba-03b4bb62f7e0",
   "metadata": {},
   "outputs": [
    {
     "name": "stdout",
     "output_type": "stream",
     "text": [
      "* Running on local URL:  http://127.0.0.1:7880\n",
      "* To create a public link, set `share=True` in `launch()`.\n"
     ]
    },
    {
     "data": {
      "text/html": [
       "<div><iframe src=\"http://127.0.0.1:7880/\" width=\"100%\" height=\"500\" allow=\"autoplay; camera; microphone; clipboard-read; clipboard-write;\" frameborder=\"0\" allowfullscreen></iframe></div>"
      ],
      "text/plain": [
       "<IPython.core.display.HTML object>"
      ]
     },
     "metadata": {},
     "output_type": "display_data"
    }
   ],
   "source": [
    "import gradio as gr\n",
    "async def chat_with_agent(message, history):\n",
    "    # LangGraph agents expect messages in a specific format\n",
    "    #print(history)\n",
    "    messages = history + [{\"role\": \"user\", \"content\": message}]    \n",
    "    # Invoke the agent\n",
    "    response = await supervisor.ainvoke({\"messages\": messages})\n",
    "    \n",
    "    # Extract the agent's reply\n",
    "    agent_reply = response[\"messages\"][-1].content\n",
    "    return agent_reply\n",
    "\n",
    "# 5. Create the Gradio interface\n",
    "iface = gr.ChatInterface(\n",
    "    fn=chat_with_agent,\n",
    "    type=\"messages\"\n",
    ")\n",
    "\n",
    "# 6. Launch the Gradio app\n",
    "if __name__ == \"__main__\":\n",
    "    iface.launch()"
   ]
  },
  {
   "cell_type": "code",
   "execution_count": 5,
   "id": "5fa56602-f769-443f-95ef-34237fd1b330",
   "metadata": {},
   "outputs": [
    {
     "name": "stdout",
     "output_type": "stream",
     "text": [
      "Collecting langgraph_supervisor\n",
      "  Using cached langgraph_supervisor-0.0.29-py3-none-any.whl.metadata (13 kB)\n",
      "Requirement already satisfied: langgraph<0.7.0,>=0.6.0 in c:\\users\\wyp_1\\projects\\upwork\\financial_agentic_ai_dev\\.venv\\lib\\site-packages (from langgraph_supervisor) (0.6.6)\n",
      "Requirement already satisfied: langchain-core>=0.3.40 in c:\\users\\wyp_1\\projects\\upwork\\financial_agentic_ai_dev\\.venv\\lib\\site-packages (from langgraph_supervisor) (0.3.74)\n",
      "Requirement already satisfied: langgraph-checkpoint<3.0.0,>=2.1.0 in c:\\users\\wyp_1\\projects\\upwork\\financial_agentic_ai_dev\\.venv\\lib\\site-packages (from langgraph<0.7.0,>=0.6.0->langgraph_supervisor) (2.1.1)\n",
      "Requirement already satisfied: langgraph-prebuilt<0.7.0,>=0.6.0 in c:\\users\\wyp_1\\projects\\upwork\\financial_agentic_ai_dev\\.venv\\lib\\site-packages (from langgraph<0.7.0,>=0.6.0->langgraph_supervisor) (0.6.4)\n",
      "Requirement already satisfied: langgraph-sdk<0.3.0,>=0.2.2 in c:\\users\\wyp_1\\projects\\upwork\\financial_agentic_ai_dev\\.venv\\lib\\site-packages (from langgraph<0.7.0,>=0.6.0->langgraph_supervisor) (0.2.3)\n",
      "Requirement already satisfied: pydantic>=2.7.4 in c:\\users\\wyp_1\\projects\\upwork\\financial_agentic_ai_dev\\.venv\\lib\\site-packages (from langgraph<0.7.0,>=0.6.0->langgraph_supervisor) (2.11.7)\n",
      "Requirement already satisfied: xxhash>=3.5.0 in c:\\users\\wyp_1\\projects\\upwork\\financial_agentic_ai_dev\\.venv\\lib\\site-packages (from langgraph<0.7.0,>=0.6.0->langgraph_supervisor) (3.5.0)\n",
      "Requirement already satisfied: ormsgpack>=1.10.0 in c:\\users\\wyp_1\\projects\\upwork\\financial_agentic_ai_dev\\.venv\\lib\\site-packages (from langgraph-checkpoint<3.0.0,>=2.1.0->langgraph<0.7.0,>=0.6.0->langgraph_supervisor) (1.10.0)\n",
      "Requirement already satisfied: httpx>=0.25.2 in c:\\users\\wyp_1\\projects\\upwork\\financial_agentic_ai_dev\\.venv\\lib\\site-packages (from langgraph-sdk<0.3.0,>=0.2.2->langgraph<0.7.0,>=0.6.0->langgraph_supervisor) (0.28.1)\n",
      "Requirement already satisfied: orjson>=3.10.1 in c:\\users\\wyp_1\\projects\\upwork\\financial_agentic_ai_dev\\.venv\\lib\\site-packages (from langgraph-sdk<0.3.0,>=0.2.2->langgraph<0.7.0,>=0.6.0->langgraph_supervisor) (3.11.2)\n",
      "Requirement already satisfied: anyio in c:\\users\\wyp_1\\projects\\upwork\\financial_agentic_ai_dev\\.venv\\lib\\site-packages (from httpx>=0.25.2->langgraph-sdk<0.3.0,>=0.2.2->langgraph<0.7.0,>=0.6.0->langgraph_supervisor) (4.10.0)\n",
      "Requirement already satisfied: certifi in c:\\users\\wyp_1\\projects\\upwork\\financial_agentic_ai_dev\\.venv\\lib\\site-packages (from httpx>=0.25.2->langgraph-sdk<0.3.0,>=0.2.2->langgraph<0.7.0,>=0.6.0->langgraph_supervisor) (2025.8.3)\n",
      "Requirement already satisfied: httpcore==1.* in c:\\users\\wyp_1\\projects\\upwork\\financial_agentic_ai_dev\\.venv\\lib\\site-packages (from httpx>=0.25.2->langgraph-sdk<0.3.0,>=0.2.2->langgraph<0.7.0,>=0.6.0->langgraph_supervisor) (1.0.9)\n",
      "Requirement already satisfied: idna in c:\\users\\wyp_1\\projects\\upwork\\financial_agentic_ai_dev\\.venv\\lib\\site-packages (from httpx>=0.25.2->langgraph-sdk<0.3.0,>=0.2.2->langgraph<0.7.0,>=0.6.0->langgraph_supervisor) (3.10)\n",
      "Requirement already satisfied: h11>=0.16 in c:\\users\\wyp_1\\projects\\upwork\\financial_agentic_ai_dev\\.venv\\lib\\site-packages (from httpcore==1.*->httpx>=0.25.2->langgraph-sdk<0.3.0,>=0.2.2->langgraph<0.7.0,>=0.6.0->langgraph_supervisor) (0.16.0)\n",
      "Requirement already satisfied: langsmith>=0.3.45 in c:\\users\\wyp_1\\projects\\upwork\\financial_agentic_ai_dev\\.venv\\lib\\site-packages (from langchain-core>=0.3.40->langgraph_supervisor) (0.4.16)\n",
      "Requirement already satisfied: tenacity!=8.4.0,<10.0.0,>=8.1.0 in c:\\users\\wyp_1\\projects\\upwork\\financial_agentic_ai_dev\\.venv\\lib\\site-packages (from langchain-core>=0.3.40->langgraph_supervisor) (9.1.2)\n",
      "Requirement already satisfied: jsonpatch<2.0,>=1.33 in c:\\users\\wyp_1\\projects\\upwork\\financial_agentic_ai_dev\\.venv\\lib\\site-packages (from langchain-core>=0.3.40->langgraph_supervisor) (1.33)\n",
      "Requirement already satisfied: PyYAML>=5.3 in c:\\users\\wyp_1\\projects\\upwork\\financial_agentic_ai_dev\\.venv\\lib\\site-packages (from langchain-core>=0.3.40->langgraph_supervisor) (6.0.2)\n",
      "Requirement already satisfied: typing-extensions>=4.7 in c:\\users\\wyp_1\\projects\\upwork\\financial_agentic_ai_dev\\.venv\\lib\\site-packages (from langchain-core>=0.3.40->langgraph_supervisor) (4.14.1)\n",
      "Requirement already satisfied: packaging>=23.2 in c:\\users\\wyp_1\\projects\\upwork\\financial_agentic_ai_dev\\.venv\\lib\\site-packages (from langchain-core>=0.3.40->langgraph_supervisor) (25.0)\n",
      "Requirement already satisfied: jsonpointer>=1.9 in c:\\users\\wyp_1\\projects\\upwork\\financial_agentic_ai_dev\\.venv\\lib\\site-packages (from jsonpatch<2.0,>=1.33->langchain-core>=0.3.40->langgraph_supervisor) (3.0.0)\n",
      "Requirement already satisfied: requests-toolbelt>=1.0.0 in c:\\users\\wyp_1\\projects\\upwork\\financial_agentic_ai_dev\\.venv\\lib\\site-packages (from langsmith>=0.3.45->langchain-core>=0.3.40->langgraph_supervisor) (1.0.0)\n",
      "Requirement already satisfied: requests>=2.0.0 in c:\\users\\wyp_1\\projects\\upwork\\financial_agentic_ai_dev\\.venv\\lib\\site-packages (from langsmith>=0.3.45->langchain-core>=0.3.40->langgraph_supervisor) (2.32.5)\n",
      "Requirement already satisfied: zstandard>=0.23.0 in c:\\users\\wyp_1\\projects\\upwork\\financial_agentic_ai_dev\\.venv\\lib\\site-packages (from langsmith>=0.3.45->langchain-core>=0.3.40->langgraph_supervisor) (0.24.0)\n",
      "Requirement already satisfied: annotated-types>=0.6.0 in c:\\users\\wyp_1\\projects\\upwork\\financial_agentic_ai_dev\\.venv\\lib\\site-packages (from pydantic>=2.7.4->langgraph<0.7.0,>=0.6.0->langgraph_supervisor) (0.7.0)\n",
      "Requirement already satisfied: pydantic-core==2.33.2 in c:\\users\\wyp_1\\projects\\upwork\\financial_agentic_ai_dev\\.venv\\lib\\site-packages (from pydantic>=2.7.4->langgraph<0.7.0,>=0.6.0->langgraph_supervisor) (2.33.2)\n",
      "Requirement already satisfied: typing-inspection>=0.4.0 in c:\\users\\wyp_1\\projects\\upwork\\financial_agentic_ai_dev\\.venv\\lib\\site-packages (from pydantic>=2.7.4->langgraph<0.7.0,>=0.6.0->langgraph_supervisor) (0.4.1)\n",
      "Requirement already satisfied: charset_normalizer<4,>=2 in c:\\users\\wyp_1\\projects\\upwork\\financial_agentic_ai_dev\\.venv\\lib\\site-packages (from requests>=2.0.0->langsmith>=0.3.45->langchain-core>=0.3.40->langgraph_supervisor) (3.4.3)\n",
      "Requirement already satisfied: urllib3<3,>=1.21.1 in c:\\users\\wyp_1\\projects\\upwork\\financial_agentic_ai_dev\\.venv\\lib\\site-packages (from requests>=2.0.0->langsmith>=0.3.45->langchain-core>=0.3.40->langgraph_supervisor) (2.5.0)\n",
      "Requirement already satisfied: sniffio>=1.1 in c:\\users\\wyp_1\\projects\\upwork\\financial_agentic_ai_dev\\.venv\\lib\\site-packages (from anyio->httpx>=0.25.2->langgraph-sdk<0.3.0,>=0.2.2->langgraph<0.7.0,>=0.6.0->langgraph_supervisor) (1.3.1)\n",
      "Using cached langgraph_supervisor-0.0.29-py3-none-any.whl (16 kB)\n",
      "Installing collected packages: langgraph_supervisor\n",
      "Successfully installed langgraph_supervisor-0.0.29\n"
     ]
    },
    {
     "name": "stderr",
     "output_type": "stream",
     "text": [
      "\n",
      "[notice] A new release of pip is available: 25.1.1 -> 25.2\n",
      "[notice] To update, run: python.exe -m pip install --upgrade pip\n"
     ]
    }
   ],
   "source": [
    "!pip install langgraph_supervisor"
   ]
  },
  {
   "cell_type": "code",
   "execution_count": null,
   "id": "63bf50cc-efaa-4527-921f-2771cbc9d1e2",
   "metadata": {},
   "outputs": [],
   "source": []
  }
 ],
 "metadata": {
  "kernelspec": {
   "display_name": "Python 3 (ipykernel)",
   "language": "python",
   "name": "python3"
  },
  "language_info": {
   "codemirror_mode": {
    "name": "ipython",
    "version": 3
   },
   "file_extension": ".py",
   "mimetype": "text/x-python",
   "name": "python",
   "nbconvert_exporter": "python",
   "pygments_lexer": "ipython3",
   "version": "3.13.5"
  }
 },
 "nbformat": 4,
 "nbformat_minor": 5
}
